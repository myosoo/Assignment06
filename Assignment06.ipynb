{
 "cells": [
  {
   "cell_type": "markdown",
   "metadata": {},
   "source": [
    "# Assignement06\n",
    "# Name : Jun-ha Lee\n",
    "# Student NO. : 2017220159"
   ]
  },
  {
   "cell_type": "code",
   "execution_count": 1,
   "metadata": {},
   "outputs": [],
   "source": [
    "import numpy as np\n",
    "import matplotlib.pyplot as plt\n",
    "import sys"
   ]
  },
  {
   "cell_type": "markdown",
   "metadata": {},
   "source": [
    "### Plot the noisy data ($x, y_1$)\n",
    "### Plot the clean data ($x, y_2$)"
   ]
  },
  {
   "cell_type": "code",
   "execution_count": 2,
   "metadata": {},
   "outputs": [],
   "source": [
    "num = 201\n",
    "std = 500\n",
    "a = 2\n",
    "b = 10\n",
    "\n",
    "n = np.random.rand(num)\n",
    "nn = n - np.mean(n)\n",
    "x = np.linspace(-100, 100, num)\n",
    "y1 = a * x + nn * std + b # noisy data\n",
    "y2 = a * x + b # clean data"
   ]
  },
  {
   "cell_type": "markdown",
   "metadata": {},
   "source": [
    "### Average of $x$, and average of $y_1$\n",
    "### $\\text{Average X} = {{1 \\over N} \\cdot (\\mathbf{1})^T \\cdot X}$"
   ]
  },
  {
   "cell_type": "code",
   "execution_count": 3,
   "metadata": {},
   "outputs": [],
   "source": [
    "mean_x = np.sum(np.ones(num) * x) / num\n",
    "mean_y1 = np.sum(np.ones(num) * y1) / num"
   ]
  },
  {
   "cell_type": "markdown",
   "metadata": {},
   "source": [
    "### Define standard deviation of $x$ $std(x_i) = {\\lVert x^d - avg(x_i) \\cdot \\mathbf{1} \\rVert \\over \\sqrt{N}}$"
   ]
  },
  {
   "cell_type": "code",
   "execution_count": 4,
   "metadata": {},
   "outputs": [],
   "source": [
    "def standard_deviation_x(x):\n",
    "    return np.sqrt(np.sum((x - mean_x + np.ones(num)) ** 2) / num)"
   ]
  },
  {
   "cell_type": "markdown",
   "metadata": {},
   "source": [
    "### Define standard deviation of $y_1$ $std(y_i) = {\\lVert y^d - avg(y_i) \\cdot \\mathbf{1} \\rVert \\over \\sqrt{N}} $"
   ]
  },
  {
   "cell_type": "code",
   "execution_count": 5,
   "metadata": {},
   "outputs": [],
   "source": [
    "def standard_deviation_y1(y1):\n",
    "    return np.sqrt(np.sum((y1 - mean_y1 + np.ones(num)) ** 2) / num)"
   ]
  },
  {
   "cell_type": "markdown",
   "metadata": {},
   "source": [
    "### compute the standard deviation"
   ]
  },
  {
   "cell_type": "code",
   "execution_count": 6,
   "metadata": {},
   "outputs": [],
   "source": [
    "std_x = standard_deviation_x(x)\n",
    "std_y1 = standard_deviation_y1(y1)"
   ]
  },
  {
   "cell_type": "markdown",
   "metadata": {},
   "source": [
    "### show result"
   ]
  },
  {
   "cell_type": "code",
   "execution_count": 7,
   "metadata": {},
   "outputs": [
    {
     "data": {
      "text/plain": [
       "(0.0, 10.000000000000018, 58.031600586806725, 190.36613074544985)"
      ]
     },
     "execution_count": 7,
     "metadata": {},
     "output_type": "execute_result"
    }
   ],
   "source": [
    "mean_x, mean_y1, std_x, std_y1"
   ]
  },
  {
   "cell_type": "markdown",
   "metadata": {},
   "source": [
    "### Define the correlation coefficient between x and y : $\\boldsymbol{\\rho} = {(x - avg(x_i))^T \\cdot (y - avg(y_i))\\over N \\cdot std(x_i) \\cdot std(y_i)}$ "
   ]
  },
  {
   "cell_type": "code",
   "execution_count": 8,
   "metadata": {},
   "outputs": [],
   "source": [
    "def correlation(x, y1):\n",
    "    return np.sum((x - mean_x) * (y1 - mean_y1) / (num * std_x * std_y1))"
   ]
  },
  {
   "cell_type": "markdown",
   "metadata": {},
   "source": [
    "### Compute the correlation and display"
   ]
  },
  {
   "cell_type": "code",
   "execution_count": 9,
   "metadata": {},
   "outputs": [
    {
     "data": {
      "text/plain": [
       "0.6642089520712002"
      ]
     },
     "execution_count": 9,
     "metadata": {},
     "output_type": "execute_result"
    }
   ],
   "source": [
    "cor = correlation(x, y1)\n",
    "cor"
   ]
  },
  {
   "cell_type": "markdown",
   "metadata": {},
   "source": [
    "### Define least-square-fit function : $\\hat{f} = avg(y_i) - \\boldsymbol{\\rho} \\cdot {std(y_i) \\over std(x_i)} \\cdot (x - avg(x_i))$ "
   ]
  },
  {
   "cell_type": "code",
   "execution_count": 10,
   "metadata": {},
   "outputs": [],
   "source": [
    "def least_square_fit(x, y1):\n",
    "    return mean_y1 + (cor * std_y1 / std_x) * (x - mean_x)"
   ]
  },
  {
   "cell_type": "markdown",
   "metadata": {},
   "source": [
    "### Compute the graph of least_square_fit and show result"
   ]
  },
  {
   "cell_type": "code",
   "execution_count": 11,
   "metadata": {},
   "outputs": [
    {
     "data": {
      "text/plain": [
       "array([-207.88626702, -205.70740435, -203.52854168, -201.34967901,\n",
       "       -199.17081634, -196.99195367, -194.813091  , -192.63422833,\n",
       "       -190.45536566, -188.27650299, -186.09764032, -183.91877765,\n",
       "       -181.73991498, -179.56105231, -177.38218964, -175.20332697,\n",
       "       -173.0244643 , -170.84560163, -168.66673896, -166.48787629,\n",
       "       -164.30901362, -162.13015095, -159.95128828, -157.77242561,\n",
       "       -155.59356294, -153.41470027, -151.2358376 , -149.05697493,\n",
       "       -146.87811226, -144.69924959, -142.52038692, -140.34152425,\n",
       "       -138.16266158, -135.98379891, -133.80493624, -131.62607356,\n",
       "       -129.44721089, -127.26834822, -125.08948555, -122.91062288,\n",
       "       -120.73176021, -118.55289754, -116.37403487, -114.1951722 ,\n",
       "       -112.01630953, -109.83744686, -107.65858419, -105.47972152,\n",
       "       -103.30085885, -101.12199618,  -98.94313351,  -96.76427084,\n",
       "        -94.58540817,  -92.4065455 ,  -90.22768283,  -88.04882016,\n",
       "        -85.86995749,  -83.69109482,  -81.51223215,  -79.33336948,\n",
       "        -77.15450681,  -74.97564414,  -72.79678147,  -70.6179188 ,\n",
       "        -68.43905613,  -66.26019346,  -64.08133079,  -61.90246812,\n",
       "        -59.72360545,  -57.54474278,  -55.36588011,  -53.18701744,\n",
       "        -51.00815477,  -48.8292921 ,  -46.65042943,  -44.47156676,\n",
       "        -42.29270409,  -40.11384142,  -37.93497875,  -35.75611607,\n",
       "        -33.5772534 ,  -31.39839073,  -29.21952806,  -27.04066539,\n",
       "        -24.86180272,  -22.68294005,  -20.50407738,  -18.32521471,\n",
       "        -16.14635204,  -13.96748937,  -11.7886267 ,   -9.60976403,\n",
       "         -7.43090136,   -5.25203869,   -3.07317602,   -0.89431335,\n",
       "          1.28454932,    3.46341199,    5.64227466,    7.82113733,\n",
       "         10.        ,   12.17886267,   14.35772534,   16.53658801,\n",
       "         18.71545068,   20.89431335,   23.07317602,   25.25203869,\n",
       "         27.43090136,   29.60976403,   31.7886267 ,   33.96748937,\n",
       "         36.14635204,   38.32521471,   40.50407738,   42.68294005,\n",
       "         44.86180272,   47.04066539,   49.21952806,   51.39839073,\n",
       "         53.5772534 ,   55.75611607,   57.93497875,   60.11384142,\n",
       "         62.29270409,   64.47156676,   66.65042943,   68.8292921 ,\n",
       "         71.00815477,   73.18701744,   75.36588011,   77.54474278,\n",
       "         79.72360545,   81.90246812,   84.08133079,   86.26019346,\n",
       "         88.43905613,   90.6179188 ,   92.79678147,   94.97564414,\n",
       "         97.15450681,   99.33336948,  101.51223215,  103.69109482,\n",
       "        105.86995749,  108.04882016,  110.22768283,  112.4065455 ,\n",
       "        114.58540817,  116.76427084,  118.94313351,  121.12199618,\n",
       "        123.30085885,  125.47972152,  127.65858419,  129.83744686,\n",
       "        132.01630953,  134.1951722 ,  136.37403487,  138.55289754,\n",
       "        140.73176021,  142.91062288,  145.08948555,  147.26834822,\n",
       "        149.44721089,  151.62607356,  153.80493624,  155.98379891,\n",
       "        158.16266158,  160.34152425,  162.52038692,  164.69924959,\n",
       "        166.87811226,  169.05697493,  171.2358376 ,  173.41470027,\n",
       "        175.59356294,  177.77242561,  179.95128828,  182.13015095,\n",
       "        184.30901362,  186.48787629,  188.66673896,  190.84560163,\n",
       "        193.0244643 ,  195.20332697,  197.38218964,  199.56105231,\n",
       "        201.73991498,  203.91877765,  206.09764032,  208.27650299,\n",
       "        210.45536566,  212.63422833,  214.813091  ,  216.99195367,\n",
       "        219.17081634,  221.34967901,  223.52854168,  225.70740435,\n",
       "        227.88626702])"
      ]
     },
     "execution_count": 11,
     "metadata": {},
     "output_type": "execute_result"
    }
   ],
   "source": [
    "app_f = least_square_fit(x, y1)\n",
    "app_f"
   ]
  },
  {
   "cell_type": "markdown",
   "metadata": {},
   "source": [
    "### Plot the line that ﬁts the noisy data by the least square error"
   ]
  },
  {
   "cell_type": "code",
   "execution_count": 12,
   "metadata": {},
   "outputs": [
    {
     "data": {
      "image/png": "[encoded data removed]",
      "text/plain": [
       "<Figure size 432x288 with 1 Axes>"
      ]
     },
     "metadata": {},
     "output_type": "display_data"
    }
   ],
   "source": [
    "plt.plot(x, y1, 'b.', x, y2, 'k--')\n",
    "plt.plot(x, app_f, 'r')\n",
    "plt.show()"
   ]
  },
  {
   "cell_type": "code",
   "execution_count": null,
   "metadata": {},
   "outputs": [],
   "source": []
  },
  {
   "cell_type": "code",
   "execution_count": null,
   "metadata": {},
   "outputs": [],
   "source": []
  }
 ],
 "metadata": {
  "kernelspec": {
   "display_name": "Python 3",
   "language": "python",
   "name": "python3"
  },
  "language_info": {
   "codemirror_mode": {
    "name": "ipython",
    "version": 3
   },
   "file_extension": ".py",
   "mimetype": "text/x-python",
   "name": "python",
   "nbconvert_exporter": "python",
   "pygments_lexer": "ipython3",
   "version": "3.6.5"
  }
 },
 "nbformat": 4,
 "nbformat_minor": 2
}
